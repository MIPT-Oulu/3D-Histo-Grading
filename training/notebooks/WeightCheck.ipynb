{
 "cells": [
  {
   "cell_type": "code",
   "execution_count": 1,
   "metadata": {},
   "outputs": [],
   "source": [
    "import numpy as np\n",
    "import os\n",
    "import h5py"
   ]
  },
  {
   "cell_type": "code",
   "execution_count": 2,
   "metadata": {},
   "outputs": [
    {
     "name": "stdout",
     "output_type": "stream",
     "text": [
      "center_0_bias\n",
      "center_0_weight\n",
      "center_1_bias\n",
      "center_1_weight\n",
      "down1_0_bias\n",
      "down1_0_weight\n",
      "down1_1_bias\n",
      "down1_1_weight\n",
      "down2_0_bias\n",
      "down2_0_weight\n",
      "down2_1_bias\n",
      "down2_1_weight\n",
      "down3_0_bias\n",
      "down3_0_weight\n",
      "down3_1_bias\n",
      "down3_1_weight\n",
      "down4_0_bias\n",
      "down4_0_weight\n",
      "down4_1_bias\n",
      "down4_1_weight\n",
      "down5_0_bias\n",
      "down5_0_weight\n",
      "down5_1_bias\n",
      "down5_1_weight\n",
      "down6_0_bias\n",
      "down6_0_weight\n",
      "down6_1_bias\n",
      "down6_1_weight\n",
      "mixer.bias\n",
      "mixer.weight\n",
      "up1_0_bias\n",
      "up1_0_weight\n",
      "up1_1_bias\n",
      "up1_1_weight\n",
      "up2_0_bias\n",
      "up2_0_weight\n",
      "up2_1_bias\n",
      "up2_1_weight\n",
      "up3_0_bias\n",
      "up3_0_weight\n",
      "up3_1_bias\n",
      "up3_1_weight\n",
      "up4_0_bias\n",
      "up4_0_weight\n",
      "up4_1_bias\n",
      "up4_1_weight\n",
      "up5_0_bias\n",
      "up5_0_weight\n",
      "up5_1_bias\n",
      "up5_1_weight\n",
      "up6_0_bias\n",
      "up6_0_weight\n",
      "up6_1_bias\n",
      "up6_1_weight\n"
     ]
    }
   ],
   "source": [
    "h5 = h5py.File(r'UNet_fold_2_new.h5','r')\n",
    "for key in h5:\n",
    "    print(key)\n",
    "h5.close()"
   ]
  },
  {
   "cell_type": "code",
   "execution_count": null,
   "metadata": {},
   "outputs": [],
   "source": []
  }
 ],
 "metadata": {
  "kernelspec": {
   "display_name": "Python 3",
   "language": "python",
   "name": "python3"
  },
  "language_info": {
   "codemirror_mode": {
    "name": "ipython",
    "version": 3
   },
   "file_extension": ".py",
   "mimetype": "text/x-python",
   "name": "python",
   "nbconvert_exporter": "python",
   "pygments_lexer": "ipython3",
   "version": "3.6.5"
  }
 },
 "nbformat": 4,
 "nbformat_minor": 2
}
