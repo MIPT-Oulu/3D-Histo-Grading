{
 "cells": [
  {
   "cell_type": "code",
   "execution_count": 5,
   "outputs": [],
   "source": [
    "import numpy as np\n",
    "import sys\n",
    "import os\n",
    "import components.grading.args_grading as arg\n",
    "\n",
    "from time import time, strftime\n",
    "from datetime import date\n",
    "from sklearn.metrics import roc_curve, roc_auc_score, precision_recall_curve, average_precision_score\n",
    "\n",
    "from components.grading.grading_pipelines import pipeline_prediction\n",
    "from components.grading.roc_curve import roc_curve_single, roc_curve_multi, calc_curve_bootstrap, display_bootstraps, plot_vois\n",
    "from components.utilities.load_write import load_excel\n"
   ],
   "metadata": {
    "collapsed": false,
    "pycharm": {
     "name": "#%%\n",
     "is_executing": false
    }
   }
  },
  {
   "cell_type": "code",
   "execution_count": 11,
   "outputs": [
    {
     "traceback": [
      "\u001b[0;31m---------------------------------------------------------------------------\u001b[0m",
      "\u001b[0;31mKeyboardInterrupt\u001b[0m                         Traceback (most recent call last)",
      "\u001b[0;32m<ipython-input-11-9414b06aaa0f>\u001b[0m in \u001b[0;36m<module>\u001b[0;34m\u001b[0m\n\u001b[1;32m      3\u001b[0m \u001b[0mdatapath\u001b[0m \u001b[0;34m=\u001b[0m \u001b[0;34mr'/media/dios/dios2/3DHistoData'\u001b[0m\u001b[0;34m\u001b[0m\u001b[0;34m\u001b[0m\u001b[0m\n\u001b[1;32m      4\u001b[0m \u001b[0;31m# datapath = r'X:/3DHistoData'\u001b[0m\u001b[0;34m\u001b[0m\u001b[0;34m\u001b[0m\u001b[0;34m\u001b[0m\u001b[0m\n\u001b[0;32m----> 5\u001b[0;31m \u001b[0marguments\u001b[0m \u001b[0;34m=\u001b[0m \u001b[0marg\u001b[0m\u001b[0;34m.\u001b[0m\u001b[0mreturn_args\u001b[0m\u001b[0;34m(\u001b[0m\u001b[0mdatapath\u001b[0m\u001b[0;34m,\u001b[0m \u001b[0mchoice\u001b[0m\u001b[0;34m,\u001b[0m \u001b[0mpars\u001b[0m\u001b[0;34m=\u001b[0m\u001b[0marg\u001b[0m\u001b[0;34m.\u001b[0m\u001b[0mset_2m_loo_cut\u001b[0m\u001b[0;34m,\u001b[0m \u001b[0mgrade_list\u001b[0m\u001b[0;34m=\u001b[0m\u001b[0marg\u001b[0m\u001b[0;34m.\u001b[0m\u001b[0mgrades_cut\u001b[0m\u001b[0;34m)\u001b[0m\u001b[0;34m\u001b[0m\u001b[0;34m\u001b[0m\u001b[0m\n\u001b[0m\u001b[1;32m      6\u001b[0m \u001b[0marguments\u001b[0m\u001b[0;34m.\u001b[0m\u001b[0msave_path\u001b[0m \u001b[0;34m=\u001b[0m \u001b[0marguments\u001b[0m\u001b[0;34m.\u001b[0m\u001b[0msave_path\u001b[0m\u001b[0;34m\u001b[0m\u001b[0;34m\u001b[0m\u001b[0m\n\u001b[1;32m      7\u001b[0m \u001b[0marguments\u001b[0m\u001b[0;34m.\u001b[0m\u001b[0mtrain_regression\u001b[0m \u001b[0;34m=\u001b[0m \u001b[0;32mFalse\u001b[0m\u001b[0;34m\u001b[0m\u001b[0;34m\u001b[0m\u001b[0m\n",
      "\u001b[0;32m<ipython-input-11-9414b06aaa0f>\u001b[0m in \u001b[0;36m<module>\u001b[0;34m\u001b[0m\n\u001b[1;32m      3\u001b[0m \u001b[0mdatapath\u001b[0m \u001b[0;34m=\u001b[0m \u001b[0;34mr'/media/dios/dios2/3DHistoData'\u001b[0m\u001b[0;34m\u001b[0m\u001b[0;34m\u001b[0m\u001b[0m\n\u001b[1;32m      4\u001b[0m \u001b[0;31m# datapath = r'X:/3DHistoData'\u001b[0m\u001b[0;34m\u001b[0m\u001b[0;34m\u001b[0m\u001b[0;34m\u001b[0m\u001b[0m\n\u001b[0;32m----> 5\u001b[0;31m \u001b[0marguments\u001b[0m \u001b[0;34m=\u001b[0m \u001b[0marg\u001b[0m\u001b[0;34m.\u001b[0m\u001b[0mreturn_args\u001b[0m\u001b[0;34m(\u001b[0m\u001b[0mdatapath\u001b[0m\u001b[0;34m,\u001b[0m \u001b[0mchoice\u001b[0m\u001b[0;34m,\u001b[0m \u001b[0mpars\u001b[0m\u001b[0;34m=\u001b[0m\u001b[0marg\u001b[0m\u001b[0;34m.\u001b[0m\u001b[0mset_2m_loo_cut\u001b[0m\u001b[0;34m,\u001b[0m \u001b[0mgrade_list\u001b[0m\u001b[0;34m=\u001b[0m\u001b[0marg\u001b[0m\u001b[0;34m.\u001b[0m\u001b[0mgrades_cut\u001b[0m\u001b[0;34m)\u001b[0m\u001b[0;34m\u001b[0m\u001b[0;34m\u001b[0m\u001b[0m\n\u001b[0m\u001b[1;32m      6\u001b[0m \u001b[0marguments\u001b[0m\u001b[0;34m.\u001b[0m\u001b[0msave_path\u001b[0m \u001b[0;34m=\u001b[0m \u001b[0marguments\u001b[0m\u001b[0;34m.\u001b[0m\u001b[0msave_path\u001b[0m\u001b[0;34m\u001b[0m\u001b[0;34m\u001b[0m\u001b[0m\n\u001b[1;32m      7\u001b[0m \u001b[0marguments\u001b[0m\u001b[0;34m.\u001b[0m\u001b[0mtrain_regression\u001b[0m \u001b[0;34m=\u001b[0m \u001b[0;32mFalse\u001b[0m\u001b[0;34m\u001b[0m\u001b[0;34m\u001b[0m\u001b[0m\n",
      "\u001b[0;32m~/.local/share/JetBrains/Toolbox/apps/PyCharm-P/ch-0/191.8026.44/helpers/pydev/_pydevd_bundle/pydevd_frame.py\u001b[0m in \u001b[0;36mtrace_dispatch\u001b[0;34m(self, frame, event, arg)\u001b[0m\n\u001b[1;32m    629\u001b[0m                 \u001b[0;31m# if thread has a suspend flag, we suspend with a busy wait\u001b[0m\u001b[0;34m\u001b[0m\u001b[0;34m\u001b[0m\u001b[0;34m\u001b[0m\u001b[0m\n\u001b[1;32m    630\u001b[0m                 \u001b[0;32mif\u001b[0m \u001b[0minfo\u001b[0m\u001b[0;34m.\u001b[0m\u001b[0mpydev_state\u001b[0m \u001b[0;34m==\u001b[0m \u001b[0mSTATE_SUSPEND\u001b[0m\u001b[0;34m:\u001b[0m\u001b[0;34m\u001b[0m\u001b[0;34m\u001b[0m\u001b[0m\n\u001b[0;32m--> 631\u001b[0;31m                     \u001b[0mself\u001b[0m\u001b[0;34m.\u001b[0m\u001b[0mdo_wait_suspend\u001b[0m\u001b[0;34m(\u001b[0m\u001b[0mthread\u001b[0m\u001b[0;34m,\u001b[0m \u001b[0mframe\u001b[0m\u001b[0;34m,\u001b[0m \u001b[0mevent\u001b[0m\u001b[0;34m,\u001b[0m \u001b[0marg\u001b[0m\u001b[0;34m)\u001b[0m\u001b[0;34m\u001b[0m\u001b[0;34m\u001b[0m\u001b[0m\n\u001b[0m\u001b[1;32m    632\u001b[0m                     \u001b[0;32mreturn\u001b[0m \u001b[0mself\u001b[0m\u001b[0;34m.\u001b[0m\u001b[0mtrace_dispatch\u001b[0m\u001b[0;34m\u001b[0m\u001b[0;34m\u001b[0m\u001b[0m\n\u001b[1;32m    633\u001b[0m                 \u001b[0;32melse\u001b[0m\u001b[0;34m:\u001b[0m\u001b[0;34m\u001b[0m\u001b[0;34m\u001b[0m\u001b[0m\n",
      "\u001b[0;32m~/.local/share/JetBrains/Toolbox/apps/PyCharm-P/ch-0/191.8026.44/helpers/pydev/_pydevd_bundle/pydevd_frame.py\u001b[0m in \u001b[0;36mdo_wait_suspend\u001b[0;34m(self, *args, **kwargs)\u001b[0m\n\u001b[1;32m    123\u001b[0m \u001b[0;34m\u001b[0m\u001b[0m\n\u001b[1;32m    124\u001b[0m     \u001b[0;32mdef\u001b[0m \u001b[0mdo_wait_suspend\u001b[0m\u001b[0;34m(\u001b[0m\u001b[0mself\u001b[0m\u001b[0;34m,\u001b[0m \u001b[0;34m*\u001b[0m\u001b[0margs\u001b[0m\u001b[0;34m,\u001b[0m \u001b[0;34m**\u001b[0m\u001b[0mkwargs\u001b[0m\u001b[0;34m)\u001b[0m\u001b[0;34m:\u001b[0m\u001b[0;34m\u001b[0m\u001b[0;34m\u001b[0m\u001b[0m\n\u001b[0;32m--> 125\u001b[0;31m         \u001b[0mself\u001b[0m\u001b[0;34m.\u001b[0m\u001b[0m_args\u001b[0m\u001b[0;34m[\u001b[0m\u001b[0;36m0\u001b[0m\u001b[0;34m]\u001b[0m\u001b[0;34m.\u001b[0m\u001b[0mdo_wait_suspend\u001b[0m\u001b[0;34m(\u001b[0m\u001b[0;34m*\u001b[0m\u001b[0margs\u001b[0m\u001b[0;34m,\u001b[0m \u001b[0;34m**\u001b[0m\u001b[0mkwargs\u001b[0m\u001b[0;34m)\u001b[0m\u001b[0;34m\u001b[0m\u001b[0;34m\u001b[0m\u001b[0m\n\u001b[0m\u001b[1;32m    126\u001b[0m \u001b[0;34m\u001b[0m\u001b[0m\n\u001b[1;32m    127\u001b[0m     \u001b[0;31m# IFDEF CYTHON\u001b[0m\u001b[0;34m\u001b[0m\u001b[0;34m\u001b[0m\u001b[0;34m\u001b[0m\u001b[0m\n",
      "\u001b[0;32m~/.local/share/JetBrains/Toolbox/apps/PyCharm-P/ch-0/191.8026.44/helpers/pydev/pydevd.py\u001b[0m in \u001b[0;36mdo_wait_suspend\u001b[0;34m(self, thread, frame, event, arg, suspend_type, send_suspend_message)\u001b[0m\n\u001b[1;32m    887\u001b[0m \u001b[0;34m\u001b[0m\u001b[0m\n\u001b[1;32m    888\u001b[0m             \u001b[0mself\u001b[0m\u001b[0;34m.\u001b[0m\u001b[0mprocess_internal_commands\u001b[0m\u001b[0;34m(\u001b[0m\u001b[0;34m)\u001b[0m\u001b[0;34m\u001b[0m\u001b[0;34m\u001b[0m\u001b[0m\n\u001b[0;32m--> 889\u001b[0;31m             \u001b[0mtime\u001b[0m\u001b[0;34m.\u001b[0m\u001b[0msleep\u001b[0m\u001b[0;34m(\u001b[0m\u001b[0;36m0.01\u001b[0m\u001b[0;34m)\u001b[0m\u001b[0;34m\u001b[0m\u001b[0;34m\u001b[0m\u001b[0m\n\u001b[0m\u001b[1;32m    890\u001b[0m \u001b[0;34m\u001b[0m\u001b[0m\n\u001b[1;32m    891\u001b[0m         \u001b[0mself\u001b[0m\u001b[0;34m.\u001b[0m\u001b[0mcancel_async_evaluation\u001b[0m\u001b[0;34m(\u001b[0m\u001b[0mget_thread_id\u001b[0m\u001b[0;34m(\u001b[0m\u001b[0mthread\u001b[0m\u001b[0;34m)\u001b[0m\u001b[0;34m,\u001b[0m \u001b[0mstr\u001b[0m\u001b[0;34m(\u001b[0m\u001b[0mid\u001b[0m\u001b[0;34m(\u001b[0m\u001b[0mframe\u001b[0m\u001b[0;34m)\u001b[0m\u001b[0;34m)\u001b[0m\u001b[0;34m)\u001b[0m\u001b[0;34m\u001b[0m\u001b[0;34m\u001b[0m\u001b[0m\n",
      "\u001b[0;31mKeyboardInterrupt\u001b[0m: "
     ],
     "ename": "KeyboardInterrupt",
     "evalue": "",
     "output_type": "error"
    }
   ],
   "source": [
    "# Arguments\n",
    "choice = '2mm'\n",
    "datapath = r'/media/dios/dios2/3DHistoData'\n",
    "# datapath = r'X:/3DHistoData'\n",
    "arguments = arg.return_args(datapath, choice, pars=arg.set_2m_loo_cut, grade_list=arg.grades_cut)\n",
    "arguments.save_path = arguments.save_path\n",
    "arguments.train_regression = False\n",
    "combinator = np.mean\n",
    "arguments.convert_grades = 'none'\n",
    "# LOGO for 2mm samples\n",
    "if choice == '2mm':\n",
    "    arguments.split = 'logo'\n",
    "    arguments.train_regression = True\n",
    "    groups, _ = load_excel(arguments.grade_path, titles=['groups'])\n",
    "    groups = groups.flatten()\n",
    "elif choice == 'Isokerays' or choice == 'Isokerays_sub':\n",
    "    arguments.train_regression = False\n",
    "    arguments.split = 'logo'\n",
    "    arguments.n_subvolumes = 9\n",
    "    if arguments.n_subvolumes > 1:\n",
    "        arguments.save_path = arguments.save_path + '_' + str(arguments.n_subvolumes) + 'subs'\n",
    "        arguments.feature_path = arguments.save_path + '/Features'\n",
    "    os.makedirs(arguments.save_path, exist_ok=True)\n",
    "    os.makedirs(arguments.save_path + '/' + 'Images', exist_ok=True)\n",
    "    groups, _ = load_excel(arguments.grade_path, titles=['groups'])\n",
    "    groups = groups.flatten()\n",
    "else:\n",
    "    os.makedirs(arguments.save_path, exist_ok=True)\n",
    "    os.makedirs(arguments.save_path + '/' + 'Images', exist_ok=True)\n",
    "    groups = None"
   ],
   "metadata": {
    "collapsed": false,
    "pycharm": {
     "name": "#%%\n",
     "is_executing": false
    }
   }
  },
  {
   "cell_type": "code",
   "execution_count": null,
   "outputs": [],
   "source": [
    "# Start time\n",
    "start_time = time()\n",
    "\n",
    "# Print output to log file\n",
    "os.makedirs(arguments.save_path + '/Logs', exist_ok=True)\n",
    "sys.stdout = open(arguments.save_path + '/Logs/' + 'grading_log_'\n",
    "                  + str(date.today()) + str(strftime(\"-%H%M\")) + '.txt', 'w')\n",
    "print('Dataset name: ', choice)\n",
    "\n",
    "# PCA and regression pipeline\n",
    "gradelist = []\n",
    "preds = []\n",
    "confusion_matrices = []\n",
    "# Loop for surface, deep and calcified analysis\n",
    "for title in arguments.grades_used:\n",
    "    grade, pred, confusion_m = pipeline_prediction(arguments, title, pat_groups=groups, combiner=combinator)\n",
    "    gradelist.append(grade)\n",
    "    preds.append(pred)\n",
    "    confusion_matrices.append(confusion_m)\n",
    "\n",
    "# Receiver operating characteristics curve\n",
    "print('\\nROC curves\\n')\n",
    "if len(gradelist) == 3:\n",
    "    split = arguments.split\n",
    "    lim = arguments.logistic_limit\n",
    "    save_path = arguments.save_path + '/roc_multi_' + split\n",
    "\n",
    "    # AUC stratified bootstrapping\n",
    "    aucs, aucs_l, aucs_h = [], [], []\n",
    "    for i in range(len(arguments.grades_used)):\n",
    "        auc, ci_l, ci_h, _, _ \\\n",
    "            = calc_curve_bootstrap(roc_curve, roc_auc_score, gradelist[i] > lim, preds[i], arguments.n_bootstrap,\n",
    "                                   arguments.seed, stratified=True, alpha=95)\n",
    "        aucs.append(auc)\n",
    "        aucs_l.append(ci_l)\n",
    "        aucs_h.append(ci_h)\n",
    "\n",
    "    # Display ROC curves\n",
    "    roc_curve_multi(preds, gradelist, lim, savepath=save_path, ci_l=aucs_l, ci_h=aucs_h, aucs=aucs)\n",
    "\n",
    "    # Precision recall\n",
    "    save_path = arguments.save_path + '/prec_recall_' + split\n",
    "    aucs, aucs_l, aucs_h, prec, rec, blines = [], [], [], [], [], []\n",
    "    for i in range(len(arguments.grades_used)):\n",
    "        auc, ci_l, ci_h, precision, recall \\\n",
    "            = calc_curve_bootstrap(precision_recall_curve, average_precision_score,\n",
    "                                   gradelist[i] > lim, preds[i], arguments.n_bootstrap,\n",
    "                                   arguments.seed, stratified=True, alpha=95)\n",
    "        p = np.sum((gradelist[i] > lim).astype('uint'))\n",
    "        n = np.sum((gradelist[i] <= lim).astype('uint'))\n",
    "        baseline = p / (p + n)\n",
    "        aucs.append(auc)\n",
    "        aucs_l.append(ci_l)\n",
    "        aucs_h.append(ci_h)\n",
    "        prec.append(precision)\n",
    "        rec.append(recall)\n",
    "        blines.append(baseline)\n",
    "\n",
    "    # Display precision recall curve\n",
    "    legend_list = ['Surface, precision: {:0.3f}, ({:1.3f}, {:2.3f})'.format(aucs[0], aucs_l[0], aucs_h[0]),\n",
    "                   'Deep, precision: {:0.3f}, ({:1.3f}, {:2.3f})'.format(aucs[1], aucs_l[1], aucs_h[1]),\n",
    "                   'Calcified, precision: {:0.3f}, ({:1.3f}, {:2.3f})'.format(aucs[2], aucs_l[2], aucs_h[2])]\n",
    "    axis = ['Recall', 'Precision']\n",
    "    plot_vois(rec, prec, legend_list, savepath=save_path, axis_labels=axis, baselines=blines)\n",
    "else:\n",
    "    split = arguments.split\n",
    "    for i in range(len(arguments.grades_used)):\n",
    "        lim = (np.min(gradelist[i]) + np.max(gradelist[i])) // 2\n",
    "        grade_used = arguments.grades_used[i]\n",
    "        save_path = arguments.save_path + '/roc_' + grade_used + '_' + split\n",
    "        # ROC curves\n",
    "        roc_curve_single(preds[i], gradelist[i], lim, savepath=save_path)\n",
    "        auc, ci_l, ci_h, _, _ \\\n",
    "            = calc_curve_bootstrap(roc_curve, roc_auc_score, gradelist[i] > lim, preds[i], arguments.n_bootstrap,\n",
    "                                   arguments.seed, stratified=True, alpha=95)\n",
    "\n",
    "# Display spent time\n",
    "t = time() - start_time\n",
    "print('Elapsed time: {0}s'.format(t))\n",
    "\n",
    "print('Parameters:\\n', arguments)\n",
    "sys.stdout = open(arguments.save_path + '/' + 'log.txt', 'w')"
   ],
   "metadata": {
    "collapsed": false,
    "pycharm": {
     "name": "#%%\n"
    }
   }
  },
  {
   "cell_type": "code",
   "execution_count": null,
   "outputs": [],
   "source": [
    "\n"
   ],
   "metadata": {
    "collapsed": false,
    "pycharm": {
     "name": "#%%\n"
    }
   }
  }
 ],
 "metadata": {
  "language_info": {
   "codemirror_mode": {
    "name": "ipython",
    "version": 2
   },
   "file_extension": ".py",
   "mimetype": "text/x-python",
   "name": "python",
   "nbconvert_exporter": "python",
   "pygments_lexer": "ipython2",
   "version": "2.7.6"
  },
  "kernelspec": {
   "name": "python3",
   "language": "python",
   "display_name": "Python 3"
  },
  "pycharm": {
   "stem_cell": {
    "cell_type": "raw",
    "source": [],
    "metadata": {
     "collapsed": false
    }
   }
  }
 },
 "nbformat": 4,
 "nbformat_minor": 0
}