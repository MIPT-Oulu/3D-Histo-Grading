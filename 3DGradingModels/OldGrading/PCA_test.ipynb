{
 "cells": [
  {
   "cell_type": "code",
   "execution_count": 1,
   "metadata": {},
   "outputs": [],
   "source": [
    "import numpy as np\n",
    "import os\n",
    "from sklearn.decomposition import pca"
   ]
  },
  {
   "cell_type": "code",
   "execution_count": 3,
   "metadata": {},
   "outputs": [],
   "source": [
    "data = np.linspace(0,49,50).reshape(10,5)"
   ]
  },
  {
   "cell_type": "code",
   "execution_count": 5,
   "metadata": {},
   "outputs": [],
   "source": [
    "fit = pca.PCA()"
   ]
  },
  {
   "cell_type": "code",
   "execution_count": 8,
   "metadata": {},
   "outputs": [],
   "source": [
    "comps = fit.fit_transform(data)"
   ]
  },
  {
   "cell_type": "code",
   "execution_count": 7,
   "metadata": {},
   "outputs": [
    {
     "data": {
      "text/plain": [
       "array([[ 0.,  1.,  2.,  3.,  4.],\n",
       "       [ 5.,  6.,  7.,  8.,  9.],\n",
       "       [10., 11., 12., 13., 14.],\n",
       "       [15., 16., 17., 18., 19.],\n",
       "       [20., 21., 22., 23., 24.],\n",
       "       [25., 26., 27., 28., 29.],\n",
       "       [30., 31., 32., 33., 34.],\n",
       "       [35., 36., 37., 38., 39.],\n",
       "       [40., 41., 42., 43., 44.],\n",
       "       [45., 46., 47., 48., 49.]])"
      ]
     },
     "execution_count": 7,
     "metadata": {},
     "output_type": "execute_result"
    }
   ],
   "source": [
    "data"
   ]
  },
  {
   "cell_type": "code",
   "execution_count": 9,
   "metadata": {},
   "outputs": [
    {
     "name": "stdout",
     "output_type": "stream",
     "text": [
      "[ 5.03115295e+01  7.67607987e-15  9.21480218e-33 -1.30858401e-47\n",
      "  2.50460587e-64]\n",
      "[ 3.91311896e+01 -1.98615292e-15  1.81248992e-30 -1.21628850e-48\n",
      " -5.92409364e-64]\n",
      "[ 2.79508497e+01 -9.36964374e-16 -3.07741755e-31  2.02423534e-46\n",
      " -8.20039787e-64]\n",
      "[ 1.67705098e+01 -7.30779324e-16 -1.37252751e-31  9.10120468e-48\n",
      "  5.27069799e-63]\n",
      "[ 5.59016994e+00 -1.03092525e-16 -4.20946277e-32  4.09271694e-48\n",
      " -3.50660053e-65]\n",
      "[-5.59016994e+00  1.03092525e-16  4.20946277e-32 -4.09271694e-48\n",
      "  3.50660053e-65]\n",
      "[-1.67705098e+01  7.30779324e-16  1.37252751e-31 -9.10120468e-48\n",
      "  1.10522740e-63]\n",
      "[-2.79508497e+01  9.36964374e-16  3.07741755e-31 -1.11930300e-47\n",
      "  1.27919774e-63]\n",
      "[-3.91311896e+01  1.98615292e-15  5.86468243e-31  7.06723583e-47\n",
      "  5.44982482e-63]\n",
      "[-5.03115295e+01  3.03534147e-15  5.19995737e-31  5.66535996e-47\n",
      " -4.23460021e-63]\n"
     ]
    }
   ],
   "source": [
    "for comp in comps:\n",
    "    print(comp)"
   ]
  },
  {
   "cell_type": "code",
   "execution_count": 11,
   "metadata": {},
   "outputs": [
    {
     "ename": "TypeError",
     "evalue": "'memoryview' object is not callable",
     "traceback": [
      "\u001b[1;31m---------------------------------------------------------------------------\u001b[0m",
      "\u001b[1;31mTypeError\u001b[0m                                 Traceback (most recent call last)",
      "\u001b[1;32m<ipython-input-11-36cb78217c2e>\u001b[0m in \u001b[0;36m<module>\u001b[1;34m()\u001b[0m\n\u001b[1;32m----> 1\u001b[1;33m \u001b[0mcomps\u001b[0m\u001b[1;33m.\u001b[0m\u001b[0mdata\u001b[0m\u001b[1;33m(\u001b[0m\u001b[1;33m)\u001b[0m\u001b[1;33m\u001b[0m\u001b[0m\n\u001b[0m",
      "\u001b[1;31mTypeError\u001b[0m: 'memoryview' object is not callable"
     ],
     "output_type": "error"
    }
   ],
   "source": []
  },
  {
   "cell_type": "code",
   "execution_count": null,
   "metadata": {},
   "outputs": [],
   "source": []
  }
 ],
 "metadata": {
  "kernelspec": {
   "display_name": "Python 3",
   "language": "python",
   "name": "python3"
  },
  "language_info": {
   "codemirror_mode": {
    "name": "ipython",
    "version": 3
   },
   "file_extension": ".py",
   "mimetype": "text/x-python",
   "name": "python",
   "nbconvert_exporter": "python",
   "pygments_lexer": "ipython3",
   "version": "3.6.5"
  }
 },
 "nbformat": 4,
 "nbformat_minor": 2
}
