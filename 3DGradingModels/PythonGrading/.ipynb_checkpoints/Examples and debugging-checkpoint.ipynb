{
 "cells": [
  {
   "cell_type": "code",
   "execution_count": 4,
   "metadata": {},
   "outputs": [],
   "source": [
    "import numpy as np\n",
    "import os\n",
    "import cv2\n",
    "import h5py\n",
    "import struct\n",
    "import vtk\n",
    "import vtk.util\n",
    "from vtk.util import numpy_support\n",
    "import matplotlib.pyplot as plt\n",
    "from volume_extraction import *\n",
    "from utilities import *\n",
    "from VTKFunctions import *\n",
    "from GradDesOrient import *\n",
    "from scipy.ndimage import affine_transform, rotate, zoom, shift\n",
    "#from joblib import Parallel, delayed\n",
    "\n",
    "from ipywidgets import FloatProgress\n",
    "from IPython.display import display"
   ]
  },
  {
   "cell_type": "markdown",
   "metadata": {},
   "source": [
    "### Create test object"
   ]
  },
  {
   "cell_type": "code",
   "execution_count": 5,
   "metadata": {},
   "outputs": [
    {
     "data": {
      "image/png": "[encoded data removed]",
      "text/plain": [
       "<Figure size 432x288 with 3 Axes>"
      ]
     },
     "metadata": {},
     "output_type": "display_data"
    },
    {
     "data": {
      "image/png": "[encoded data removed]",
      "text/plain": [
       "<Figure size 432x288 with 3 Axes>"
      ]
     },
     "metadata": {},
     "output_type": "display_data"
    },
    {
     "data": {
      "image/png": "[encoded data removed]",
      "text/plain": [
       "<Figure size 432x288 with 3 Axes>"
      ]
     },
     "metadata": {},
     "output_type": "display_data"
    },
    {
     "data": {
      "image/png": "[encoded data removed]",
      "text/plain": [
       "<Figure size 432x288 with 3 Axes>"
      ]
     },
     "metadata": {},
     "output_type": "display_data"
    },
    {
     "data": {
      "image/png": "[encoded data removed]",
      "text/plain": [
       "<Figure size 432x288 with 3 Axes>"
      ]
     },
     "metadata": {},
     "output_type": "display_data"
    }
   ],
   "source": [
    "savepath = r'Z:\\3DHistoData\\Test data\\Cube2'\n",
    "test = np.uint8(np.zeros((200,200,500)))\n",
    "test[20:-20,20:-20,20:-20] = 255\n",
    "PrintOrthogonal(test)\n",
    "test2 = test\n",
    "\n",
    "#RenderVolume(test)\n",
    "test = rotate(test, 20, (1,2))\n",
    "PrintOrthogonal(test)\n",
    "test = rotate(test, -10, (0,2))\n",
    "PrintOrthogonal(test)\n",
    "\n",
    "test2 = opencvRotate(test2, 0, 20)\n",
    "PrintOrthogonal(test2)\n",
    "test2 = opencvRotate(test2, 1, -10)\n",
    "PrintOrthogonal(test2)\n",
    "\n",
    "#xangle = RotationMatrix(np.pi/4, 0)\n",
    "#yangle = RotationMatrix(-np.pi/4, 1)\n",
    "#test = affine_transform(test, xangle)\n",
    "#test = affine_transform(test, yangle)\n",
    "\n",
    "#Save(savepath, 'Rotated_Cube', test)\n",
    "#RenderVolume(test)"
   ]
  },
  {
   "cell_type": "markdown",
   "metadata": {},
   "source": [
    "### Pipeline debugging"
   ]
  },
  {
   "cell_type": "code",
   "execution_count": null,
   "metadata": {},
   "outputs": [],
   "source": [
    "# Parameters\n",
    "#path = r\"Z:\\3DHistoData\\rekisteroidyt\\24_R6LT_2_PTA_48h_Rec\\24_R6LT_2_PTA_48h_Rec\\Registration\"\n",
    "#mask = r\"Z:\\3DHistoData\\rekisteroidyt\\24_R6LT_2_CA4+_Rec\\24_R6LT_2_CA4+_Rec\\Suoristettu\\Registration\\bone_mask\"\n",
    "path = r\"Z:\\3DHistoData\\Test data\\24_R6LT_2_binned\"\n",
    "maskpath = r\"Z:\\3DHistoData\\Test data\\21_L3L_binned\\bonemask\"\n",
    "savepath = r\"Z:\\3DHistoData\\SurfaceImages\"\n",
    "modelpath = r\"Z:\\Tuomas\\cntkunet.model\"\n",
    "sample = '15_L6TL_2'\n",
    "modelpath = None\n",
    "threshold = 80\n",
    "size = [448, 40, 10] # width, depth, offset\n",
    "\n",
    "print('Sample name: ' + sample)\n",
    "print('1. Load sample')\n",
    "data, bounds = Load(path)\n",
    "PrintOrthogonal(data)\n",
    "SaveOrthogonal(savepath + \"\\\\Images\\\\\" + sample + \"_input.png\", data)\n",
    "if maskpath != None and modelpath == None:\n",
    "    print(maskpath)\n",
    "    mask, _ = Load(maskpath)\n",
    "    print(np.shape(mask))\n",
    "    PrintOrthogonal(mask)\n",
    "\n",
    "RenderVolume(data)\n",
    "# Orient array\n",
    "print('2. Orient sample')\n",
    "data, angles = Orient(data, bounds)\n",
    "PrintOrthogonal(data)\n",
    "SaveOrthogonal(savepath + \"\\\\Images\\\\\" + sample + \"_orient.png\", data)\n",
    "if maskpath != None and modelpath == None:\n",
    "    mask = OrientMask(mask, angles)\n",
    "    orientedmask = mask\n",
    "\n",
    "# Flip and crop volume\n",
    "print('3. Crop and flip center volume:')\n",
    "data, crop = CropCenter(data, threshold, size[0])\n",
    "data = np.flip(data, 2)\n",
    "PrintOrthogonal(data)\n",
    "SaveOrthogonal(savepath + \"\\\\Images\\\\\" + sample + \"_orient_cropped.png\", data)\n",
    "if maskpath != None and modelpath == None:\n",
    "    mask = mask[crop[0]:crop[1], crop[2]:crop[3], :]\n",
    "    mask = np.flip(mask, 2)\n",
    "    PrintOrthogonal(mask)\n",
    "if modelpath != None:\n",
    "    mask = CNTKSegmentation(data, modelpath)\n",
    "    PrintOrthogonal(mask)\n",
    "    SaveOrthogonal(savepath + \"\\\\Images\\\\\" + sample + \"_mask.png\", mask)\n",
    "    \n",
    "# Crop to 400x400\n",
    "data = data[24:-24, 24:-24, :]\n",
    "mask = mask[24:-24, 24:-24, :]\n",
    "size[0] = 400\n",
    "print(data.shape)\n",
    "\n",
    "# Get VOIs\n",
    "print('4. Get interface coordinates:')\n",
    "surfvoi, interface = GetInterface(data, threshold, size, 'surface', None)\n",
    "PrintOrthogonal(surfvoi)\n",
    "SaveOrthogonal(savepath + \"\\\\Images\\\\\" + sample + \"_surface.png\", surfvoi)\n",
    "if maskpath != None and len(size) == 2:\n",
    "    print('Offset parameter not given. Setting offset to 0.')\n",
    "    size.append(0)\n",
    "if maskpath != None: # Input offset for size[2] to give voi offset from mask interface\n",
    "    print(\"Data shape : {0},{1},{2}\".format(data.shape[0],data.shape[1],data.shape[2]))\n",
    "    print(\"Mask shape : {0},{1},{2}\".format(mask.shape[0],mask.shape[1],mask.shape[2]))\n",
    "    deepvoi, ccvoi, interface = GetInterface(data, threshold, size, 'bci', (mask>0.7))\n",
    "    PrintOrthogonal(deepvoi)\n",
    "    SaveOrthogonal(savepath + \"\\\\Images\\\\\" + sample + \"_deep.png\", deepvoi)\n",
    "    PrintOrthogonal(ccvoi)\n",
    "    SaveOrthogonal(savepath + \"\\\\Images\\\\\" + sample + \"_cc.png\", ccvoi)\n",
    "\n",
    "# Calculate mean and std \n",
    "print('5. Save mean and std images')\n",
    "mean = np.mean(surfvoi, 2)\n",
    "std = np.std(surfvoi, 2)\n",
    "plt.imshow(mean); plt.show()\n",
    "plt.imshow(std); plt.show()\n",
    "# Save\n",
    "cv2.imwrite(savepath + \"\\\\Images\\\\\" + sample + \"_surface_mean.png\", \n",
    "            ((mean - np.min(mean)) / (np.max(mean) - np.min(mean)) * 255))\n",
    "cv2.imwrite(savepath + \"\\\\Images\\\\\" + sample + \"_surface_std.png\",\n",
    "            ((std - np.min(std)) / (np.max(std) - np.min(std)) * 255))\n",
    "writebinaryimage(savepath + \"\\\\Surface\\\\\" + sample + '_surface_mean.dat', mean, 'double')\n",
    "writebinaryimage(savepath + \"\\\\Surface\\\\\" + sample + '_surface_std.dat', std, 'double')\n",
    "if maskpath != None:\n",
    "    mean = np.mean(deepvoi, 2)\n",
    "    std = np.std(deepvoi, 2)\n",
    "    plt.imshow(mean); plt.show()\n",
    "    plt.imshow(std); plt.show()\n",
    "    cv2.imwrite(savepath + \"\\\\Images\\\\\" + sample + \"_deep_mean.png\", \n",
    "            ((mean - np.min(mean)) / (np.max(mean) - np.min(mean)) * 255))\n",
    "    cv2.imwrite(savepath + \"\\\\Images\\\\\" + sample + \"_deep_std.png\",\n",
    "            ((std - np.min(std)) / (np.max(std) - np.min(std)) * 255))\n",
    "    writebinaryimage(savepath + \"\\\\Deep\\\\\" + sample + '_deep_mean.dat', mean, 'double')\n",
    "    writebinaryimage(savepath + \"\\\\Deep\\\\\" + sample + '_deep_std.dat', std, 'double')\n",
    "    mean = np.mean(ccvoi, 2)\n",
    "    std = np.std(ccvoi, 2)\n",
    "    plt.imshow(mean); plt.show()\n",
    "    plt.imshow(std); plt.show()\n",
    "    cv2.imwrite(savepath + \"\\\\Images\\\\\" + sample + \"_cc_mean.png\", \n",
    "            ((mean - np.min(mean)) / (np.max(mean) - np.min(mean)) * 255))\n",
    "    cv2.imwrite(savepath + \"\\\\Images\\\\\" + sample + \"_cc_std.png\",\n",
    "            ((std - np.min(std)) / (np.max(std) - np.min(std)) * 255))\n",
    "    writebinaryimage(savepath + \"\\\\Calcified\\\\\" + sample + '_cc_mean.dat', mean, 'double')\n",
    "    writebinaryimage(savepath + \"\\\\Calcified\\\\\" + sample + '_cc_std.dat', std, 'double')"
   ]
  },
  {
   "cell_type": "markdown",
   "metadata": {},
   "source": [
    "### VTK rendering example"
   ]
  },
  {
   "cell_type": "code",
   "execution_count": null,
   "metadata": {},
   "outputs": [],
   "source": [
    "# Load and render\n",
    "path = r\"C:\\Users\\sarytky\\Desktop\\15_L6TL_2_PTA_48h_Rec\\21_L3L_binned\"\n",
    "path = r\"C:\\Users\\sarytky\\Desktop\\15_L6TL_2_PTA_48h_Rec\\15_L6TL_2_PTA_48h_Rec\\Registration\"\n",
    "mask = r\"C:\\Users\\sarytky\\Desktop\\15_L6TL_2_PTA_48h_Rec\\21_L3L_binned\\bonemask\"\n",
    "data, bounds = Load(path)\n",
    "PrintOrthogonal(data)\n",
    "RenderVolume(data)"
   ]
  },
  {
   "cell_type": "markdown",
   "metadata": {},
   "source": [
    "### VTK processing"
   ]
  },
  {
   "cell_type": "code",
   "execution_count": null,
   "metadata": {},
   "outputs": [],
   "source": [
    "# Rotate VTK\n",
    "array = data[:,:,:]\n",
    "shape = np.shape(array)\n",
    "vtkdata = ArrayToVTK(array)\n",
    "Render(vtkdata)\n",
    "vtkdata = RotateVTK(vtkdata, [90,0,0])\n",
    "array2 = VTKToArray(vtkdata, shape)\n",
    "PrintOrthogonal(array)\n",
    "PrintOrthogonal(array2 - array)"
   ]
  },
  {
   "cell_type": "markdown",
   "metadata": {},
   "source": [
    "### H5PY saving example"
   ]
  },
  {
   "cell_type": "code",
   "execution_count": null,
   "metadata": {},
   "outputs": [],
   "source": [
    "# Save to h5\n",
    "savepath = r\"C:\\Users\\sarytky\\Desktop\\15_L6TL_2_PTA_48h_Rec\\15_L6TL_2_PTA_48h_Rec\\Saved\"\n",
    "h5 = h5py.File('filename.h5','w')\n",
    "h5.create_dataset('mean',data=mean)\n",
    "h5.create_dataset('std',data=std)\n",
    "h5.close()\n",
    "\n",
    "h5 = h5py.File('filename.h5','r')\n",
    "mean = h5['mean'][:]\n",
    "h5.close()"
   ]
  }
 ],
 "metadata": {
  "kernelspec": {
   "display_name": "Python 3",
   "language": "python",
   "name": "python3"
  },
  "language_info": {
   "codemirror_mode": {
    "name": "ipython",
    "version": 3
   },
   "file_extension": ".py",
   "mimetype": "text/x-python",
   "name": "python",
   "nbconvert_exporter": "python",
   "pygments_lexer": "ipython3",
   "version": "3.6.5"
  }
 },
 "nbformat": 4,
 "nbformat_minor": 2
}
