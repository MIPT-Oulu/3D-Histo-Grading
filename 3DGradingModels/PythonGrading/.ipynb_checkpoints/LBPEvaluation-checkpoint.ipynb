{
 "cells": [
  {
   "cell_type": "code",
   "execution_count": 1,
   "metadata": {},
   "outputs": [
    {
     "name": "stderr",
     "output_type": "stream",
     "text": [
      "C:\\Users\\sarytky\\AppData\\Local\\Continuum\\anaconda3\\lib\\site-packages\\h5py\\__init__.py:36: FutureWarning: Conversion of the second argument of issubdtype from `float` to `np.floating` is deprecated. In future, it will be treated as `np.float64 == np.dtype(float).type`.\n",
      "  from ._conv import register_converters as _register_converters\n"
     ]
    },
    {
     "ename": "ModuleNotFoundError",
     "evalue": "No module named 'LBP_components'",
     "output_type": "error",
     "traceback": [
      "\u001b[1;31m---------------------------------------------------------------------------\u001b[0m",
      "\u001b[1;31mModuleNotFoundError\u001b[0m                       Traceback (most recent call last)",
      "\u001b[1;32m<ipython-input-1-2e6d67e0996a>\u001b[0m in \u001b[0;36m<module>\u001b[1;34m()\u001b[0m\n\u001b[0;32m     14\u001b[0m \u001b[1;32mfrom\u001b[0m \u001b[0mscipy\u001b[0m\u001b[1;33m.\u001b[0m\u001b[0mstats\u001b[0m \u001b[1;32mimport\u001b[0m \u001b[0mspearmanr\u001b[0m\u001b[1;33m,\u001b[0m \u001b[0mwilcoxon\u001b[0m\u001b[1;33m\u001b[0m\u001b[0m\n\u001b[0;32m     15\u001b[0m \u001b[1;33m\u001b[0m\u001b[0m\n\u001b[1;32m---> 16\u001b[1;33m \u001b[1;32mfrom\u001b[0m \u001b[0mLBP_components\u001b[0m \u001b[1;32mimport\u001b[0m \u001b[0mConv_MRELBP\u001b[0m\u001b[1;33m\u001b[0m\u001b[0m\n\u001b[0m\u001b[0;32m     17\u001b[0m \u001b[1;32mfrom\u001b[0m \u001b[0mComponents\u001b[0m \u001b[1;32mimport\u001b[0m \u001b[0mlocal_normalize\u001b[0m\u001b[1;33m\u001b[0m\u001b[0m\n\u001b[0;32m     18\u001b[0m \u001b[1;33m\u001b[0m\u001b[0m\n",
      "\u001b[1;31mModuleNotFoundError\u001b[0m: No module named 'LBP_components'"
     ]
    }
   ],
   "source": [
    "import numpy as np\n",
    "import os\n",
    "import h5py\n",
    "import pandas as pd\n",
    "from time import time\n",
    "\n",
    "from joblib import Parallel, delayed\n",
    "\n",
    "from sklearn.linear_model import Ridge, LogisticRegression\n",
    "from sklearn.model_selection import LeaveOneOut\n",
    "from sklearn.decomposition import PCA\n",
    "from sklearn.metrics import roc_curve, roc_auc_score\n",
    "\n",
    "from scipy.stats import spearmanr, wilcoxon\n",
    "\n",
    "from LBP_components import Conv_MRELBP\n",
    "from Components import local_normalize\n",
    "\n",
    "import matplotlib.pyplot as plt\n",
    "\n",
    "np.random.seed(42)"
   ]
  },
  {
   "cell_type": "code",
   "execution_count": 27,
   "metadata": {},
   "outputs": [],
   "source": [
    "#Paths and files\n",
    "path_surf = '../cartvoi_surf_new/'\n",
    "files_surf = os.listdir(path_surf)\n",
    "files_surf.sort()\n",
    "path_deep = '../cartvoi_deep_new/'\n",
    "files_deep = os.listdir(path_deep)\n",
    "files_deep.sort()\n",
    "path_calc = '../cartvoi_calc_new/'\n",
    "files_calc = os.listdir(path_calc)\n",
    "files_calc.sort()\n",
    "\n",
    "save_path = './results.csv'\n",
    "\n",
    "#Image loading\n",
    "im_surf = []\n",
    "im_deep = []\n",
    "im_calc = []\n",
    "\n",
    "for fsurf,fdeep,fcalc in zip(files_surf,files_deep,files_calc):\n",
    "    h5 = h5py.File(os.path.join(path_surf,fsurf),'r')\n",
    "    ims = h5['sum'][:]\n",
    "    h5.close()\n",
    "    im_surf.append(ims)\n",
    "    h5 = h5py.File(os.path.join(path_deep,fdeep),'r')\n",
    "    imd = h5['sum'][24:-24,24:-24]\n",
    "    h5.close()\n",
    "    im_deep.append(imd)\n",
    "    h5 = h5py.File(os.path.join(path_calc,fcalc),'r')\n",
    "    imc = h5['sum'][24:-24,24:-24]\n",
    "    h5.close()\n",
    "    im_calc.append(imc)\n",
    "    \n",
    "#Grades\n",
    "df = pd.read_excel('../ERCGrades.xlsx')\n",
    "sgrades = np.array(df['surf_sub'])\n",
    "dgrades = np.array(df['deep_mat'])\n",
    "cgrades = np.array(df['calc_mat'])"
   ]
  },
  {
   "cell_type": "code",
   "execution_count": 28,
   "metadata": {},
   "outputs": [],
   "source": [
    "#Feature extration\n",
    "\n",
    "args_surf = {'ks1': 9, 'sigma1': 3, 'ks2': 21, 'sigma2': 15, 'R': 18, 'r': 5, 'wc': 7, 'wR': 9, 'wr': 3}\n",
    "args_deep = {'ks1': 25, 'sigma1': 12, 'ks2': 9, 'sigma2': 7, 'R': 27, 'r': 7, 'wc': 13, 'wR': 3, 'wr': 3}\n",
    "args_calc = {'ks1': 11, 'sigma1': 11, 'ks2': 23, 'sigma2': 3, 'R': 3, 'r': 2, 'wc': 11, 'wR': 5, 'wr': 5}\n",
    "\n",
    "features_surf = Parallel(n_jobs=16)(delayed(Conv_MRELBP)\n",
    "                                    (local_normalize(img,args_surf['ks1'],args_surf['sigma1'],args_surf['ks2'],args_surf['sigma2']),\n",
    "                                     8,args_surf['R'],args_surf['r'],args_surf['wR'],args_surf['wr'],args_surf['wc']) for img in im_surf)\n",
    "features_deep = Parallel(n_jobs=16)(delayed(Conv_MRELBP)\n",
    "                                    (local_normalize(img,args_deep['ks1'],args_deep['sigma1'],args_deep['ks2'],args_deep['sigma2']),\n",
    "                                     8,args_deep['R'],args_deep['r'],args_deep['wR'],args_deep['wr'],args_deep['wc']) for img in im_deep)\n",
    "features_calc = Parallel(n_jobs=16)(delayed(Conv_MRELBP)\n",
    "                                    (local_normalize(img,args_calc['ks1'],args_calc['sigma1'],args_calc['ks2'],args_calc['sigma2']),\n",
    "                                     8,args_calc['R'],args_calc['r'],args_calc['wR'],args_calc['wr'],args_calc['wc']) for img in im_calc)\n",
    "\n",
    "features_surf = np.array(features_surf).squeeze()\n",
    "features_deep = np.array(features_deep).squeeze()\n",
    "features_calc = np.array(features_calc).squeeze()\n",
    "#PCA\n",
    "pcasurf = PCA(20,whiten=True,random_state=42)\n",
    "surfpc = pcasurf.fit(features_surf).transform(features_surf)\n",
    "\n",
    "pcadeep = PCA(20,whiten=True,random_state=42)\n",
    "deeppc = pcadeep.fit(features_deep).transform(features_deep)\n",
    "\n",
    "pcacalc = PCA(20,whiten=True,random_state=42)\n",
    "calcpc = pcacalc.fit(features_calc).transform(features_calc)"
   ]
  },
  {
   "cell_type": "code",
   "execution_count": 32,
   "metadata": {},
   "outputs": [],
   "source": [
    "#Regression\n",
    "\n",
    "#Get splits\n",
    "loo_surf = LeaveOneOut()\n",
    "loo_surf.get_n_splits(surfpc)\n",
    "loo_deep = LeaveOneOut()\n",
    "loo_deep.get_n_splits(deeppc)\n",
    "loo_calc = LeaveOneOut()\n",
    "loo_calc.get_n_splits(calcpc)\n",
    "\n",
    "#Evaluate surface\n",
    "surfp = []\n",
    "surfp_log = []\n",
    "for train_idx, test_idx in loo_surf.split(surfpc):\n",
    "    #Train split\n",
    "    f = surfpc[train_idx]-surfpc.mean(0)\n",
    "    g = sgrades[train_idx]\n",
    "    \n",
    "    #Linear regression\n",
    "    Rmodel = Ridge(alpha=1,normalize=True,random_state=42)\n",
    "    Rmodel.fit(f,g.reshape(-1,1))\n",
    "    \n",
    "    #Logistic regression\n",
    "    Lmodel = LogisticRegression(solver='newton-cg',max_iter=1000)\n",
    "    Lmodel.fit(f,g.ravel()>1)\n",
    "    \n",
    "    #Evaluate on test sample\n",
    "    p = Rmodel.predict((surfpc[test_idx]-surfpc.mean(0)).reshape(1,-1))\n",
    "    p_log = Lmodel.predict_proba((surfpc[test_idx]-surfpc.mean(0)).reshape(1,-1))\n",
    "    surfp.append(p)\n",
    "    surfp_log.append(p_log[0,1])\n",
    "\n",
    "#Evaluate deep cartilage\n",
    "deepp = []\n",
    "deepp_log = []\n",
    "for train_idx, test_idx in loo_deep.split(deeppc):\n",
    "    #Train split\n",
    "    f = deeppc[train_idx]-deeppc.mean(0)\n",
    "    g = dgrades[train_idx]\n",
    "    \n",
    "    #Linear regression\n",
    "    Rmodel = Ridge(alpha=1,normalize=True,random_state=42)\n",
    "    Rmodel.fit(f,g.reshape(-1,1))\n",
    "    \n",
    "    #Logistic regression\n",
    "    Lmodel = LogisticRegression(solver='newton-cg',max_iter=1000)\n",
    "    Lmodel.fit(f,g.ravel()>1)\n",
    "    \n",
    "    #Evaluate on test sample\n",
    "    p = Rmodel.predict((deeppc[test_idx]-deeppc.mean(0)).reshape(1,-1))\n",
    "    p_log = Lmodel.predict_proba((deeppc[test_idx]-deeppc.mean(0)).reshape(1,-1))\n",
    "    deepp.append(p)\n",
    "    deepp_log.append(p_log[0,1])\n",
    "    \n",
    "#Evaluate calcified cartilage\n",
    "calcp = []\n",
    "calcp_log = []\n",
    "for train_idx, test_idx in loo_surf.split(calcpc):\n",
    "    #Train split\n",
    "    f = calcpc[train_idx]-calcpc.mean(0)\n",
    "    g = cgrades[train_idx]\n",
    "    \n",
    "    #Linear regression\n",
    "    Rmodel = Ridge(alpha=1,normalize=True,random_state=42)\n",
    "    Rmodel.fit(f,g.reshape(-1,1))\n",
    "    \n",
    "    #Logistic regression\n",
    "    Lmodel = LogisticRegression(solver='newton-cg',max_iter=1000)\n",
    "    Lmodel.fit(f,g.ravel()>1)\n",
    "    \n",
    "    #Evaluate on test sample\n",
    "    p = Rmodel.predict((calcpc[test_idx]-calcpc.mean(0)).reshape(1,-1))\n",
    "    p_log = Lmodel.predict_proba((calcpc[test_idx]-calcpc.mean(0)).reshape(1,-1))\n",
    "    calcp.append(p)\n",
    "    calcp_log.append(p_log[0,1])\n"
   ]
  },
  {
   "cell_type": "code",
   "execution_count": 33,
   "metadata": {},
   "outputs": [],
   "source": [
    "#Predictions to array\n",
    "surfp = np.array(surfp).squeeze()\n",
    "surfp_log = np.array(surfp_log).squeeze()\n",
    "deepp = np.array(deepp).squeeze()\n",
    "deepp_log = np.array(deepp_log).squeeze()\n",
    "calcp = np.array(calcp).squeeze()\n",
    "calcp_log = np.array(calcp_log).squeeze()"
   ]
  },
  {
   "cell_type": "code",
   "execution_count": 34,
   "metadata": {},
   "outputs": [
    {
     "name": "stdout",
     "output_type": "stream",
     "text": [
      "0.36013941853451836\n",
      "0.575435744629006\n",
      "0.49461488688856803\n"
     ]
    }
   ],
   "source": [
    "#MSEs\n",
    "def MSE(preds,targets):\n",
    "    N = len(preds)\n",
    "    errors = preds.flatten()-targets.flatten()\n",
    "    return (errors**2).sum()/N\n",
    "\n",
    "print(MSE(surfp,sgrades))\n",
    "print(MSE(deepp,dgrades))\n",
    "print(MSE(calcp,cgrades))"
   ]
  },
  {
   "cell_type": "code",
   "execution_count": 58,
   "metadata": {},
   "outputs": [
    {
     "name": "stdout",
     "output_type": "stream",
     "text": [
      "[0.9442724458204335, 0.5854545454545454, 0.6884615384615386]\n"
     ]
    },
    {
     "data": {
      "image/png": "[encoded data removed]",
      "text/plain": [
       "<Figure size 792x792 with 1 Axes>"
      ]
     },
     "metadata": {},
     "output_type": "display_data"
    }
   ],
   "source": [
    "#ROC curves\n",
    "sfpr,stpr,_ = roc_curve(sgrades>1,surfp_log,pos_label=1)\n",
    "dfpr,dtpr,_ = roc_curve(dgrades>1,deepp_log,pos_label=1)\n",
    "cfpr,ctpr,_ = roc_curve(cgrades>1,calcp_log,pos_label=1)\n",
    "\n",
    "#AUC scores\n",
    "sscore = roc_auc_score(sgrades>1,surfp_log)\n",
    "dscore = roc_auc_score(dgrades>1,deepp_log)\n",
    "cscore = roc_auc_score(cgrades>1,calcp_log)\n",
    "print([sscore,dscore,cscore])\n",
    "\n",
    "plt.figure(figsize=(11,11))\n",
    "plt.plot(sfpr,stpr,color='r')\n",
    "plt.plot(dfpr,dtpr,color='g')\n",
    "plt.plot(cfpr,ctpr,color='b')\n",
    "plt.legend(['surface, AUC: {:0.3f}'.format(sscore),\n",
    "            'deep, AUC: {:0.3f}'.format(dscore),\n",
    "            'calcified, AUC: {:0.3f}'.format(cscore)],loc='lower right')\n",
    "plt.ylabel('True Positive Rate')\n",
    "plt.xlabel('False Positive Rate')\n",
    "plt.show()\n",
    "\n"
   ]
  },
  {
   "cell_type": "code",
   "execution_count": 64,
   "metadata": {},
   "outputs": [
    {
     "data": {
      "image/png": "[encoded data removed]",
      "text/plain": [
       "<Figure size 432x288 with 1 Axes>"
      ]
     },
     "metadata": {},
     "output_type": "display_data"
    }
   ],
   "source": [
    "plt.scatter(surfp,sgrades,color='r')\n",
    "plt.scatter(deepp,dgrades+0.25,color='g')\n",
    "plt.scatter(calcp,cgrades+0.5,color='b')\n",
    "plt.show()"
   ]
  },
  {
   "cell_type": "code",
   "execution_count": 80,
   "metadata": {},
   "outputs": [
    {
     "name": "stdout",
     "output_type": "stream",
     "text": [
      "[0.7834829050952082, 0.371054277907952, 0.5910732663511402]\n",
      "[0.6151482094909329, 0.9624082426994515, 0.7178428857514593]\n"
     ]
    }
   ],
   "source": [
    "#Statistics\n",
    "\n",
    "#Spearman rho\n",
    "srho = spearmanr(sgrades,surfp)\n",
    "drho = spearmanr(dgrades,deepp)\n",
    "crho = spearmanr(cgrades,calcp)\n",
    "\n",
    "print([srho[0],drho[0],crho[0]])\n",
    "\n",
    "#Wilcoxon p\n",
    "swilc = wilcoxon(sgrades,surfp)\n",
    "dwilc = wilcoxon(dgrades,deepp)\n",
    "cwilc = wilcoxon(cgrades,calcp)\n",
    "\n",
    "print([swilc[1],dwilc[1],cwilc[1]])"
   ]
  },
  {
   "cell_type": "code",
   "execution_count": null,
   "metadata": {},
   "outputs": [],
   "source": []
  }
 ],
 "metadata": {
  "kernelspec": {
   "display_name": "Python 3",
   "language": "python",
   "name": "python3"
  }
 },
 "nbformat": 4,
 "nbformat_minor": 2
}
