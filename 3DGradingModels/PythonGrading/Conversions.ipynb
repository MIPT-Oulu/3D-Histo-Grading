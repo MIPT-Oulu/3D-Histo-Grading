{
 "cells": [
  {
   "cell_type": "code",
   "execution_count": null,
   "metadata": {},
   "outputs": [],
   "source": [
    "import cv2\n",
    "import numpy as np\n",
    "from matplotlib import pyplot as plt\n",
    "import os\n",
    "import xlsxwriter\n",
    "import pandas as pd # Excel\n",
    "import struct # Binary writing\n",
    "\n",
    "import scipy.io as sio # Read .mat files\n",
    "import h5py\n",
    "\n",
    "\n",
    "from grading import *\n"
   ]
  },
  {
   "cell_type": "code",
   "execution_count": null,
   "metadata": {},
   "outputs": [],
   "source": [
    "# Convert .mat arrays to binary files\n",
    "path = r'V:\\Tuomas\\PTASurfaceImages'\n",
    "savepath = r'V:\\Tuomas\\PTASurfaceImages_binary'\n",
    "filelist = os.listdir(path)\n",
    "for k in range(len(filelist)):\n",
    "    #Load file\n",
    "    file = os.path.join(path,filelist[k])\n",
    "    try:\n",
    "        file = sio.loadmat(file)\n",
    "        Mz = file['Mz']\n",
    "        sz = file['sz']\n",
    "    except NotImplementedError:\n",
    "        file = h5py.File(file)\n",
    "        Mz = file['Mz'][()]\n",
    "        sz = file['sz'][()]\n",
    "        \n",
    "    # Save file\n",
    "    dtype = 'double'\n",
    "    Mz = np.float64(Mz)\n",
    "    sz = np.float64(sz)\n",
    "    name = filelist[k]\n",
    "    print(filelist[k])\n",
    "    writebinaryimage(savepath + '\\\\' + name[:-4] + '_mean.dat', Mz, dtype)\n",
    "    writebinaryimage(savepath + '\\\\' + name[:-4] + '_std.dat', sz, dtype)"
   ]
  },
  {
   "cell_type": "code",
   "execution_count": null,
   "metadata": {},
   "outputs": [],
   "source": [
    "# Convert .mat arrays to .png files\n",
    "path = r'V:\\Tuomas\\PTASurfaceImages'\n",
    "savepath = r'V:\\Tuomas\\PTASurfaceImages_png'\n",
    "filelist = os.listdir(path)\n",
    "for k in range(len(filelist)):\n",
    "    #Load file\n",
    "    file = os.path.join(path,filelist[k])\n",
    "    try:\n",
    "        file = sio.loadmat(file)\n",
    "        Mz = file['Mz']\n",
    "        sz = file['sz']\n",
    "    except NotImplementedError:\n",
    "        file = h5py.File(file)\n",
    "        Mz = file['Mz'][()]\n",
    "        sz = file['sz'][()]\n",
    "        \n",
    "    # Save file\n",
    "    dtype = 'double'\n",
    "    mx = np.amax(np.float64(Mz))\n",
    "    mn = np.amin(np.float64(Mz))\n",
    "    Mbmp = (np.float64(Mz) - mn) * (255 / (mx - mn))\n",
    "    sx = np.amax(np.float64(sz))\n",
    "    sn = np.amin(np.float64(sz))\n",
    "    sbmp = (np.float64(sz) - sn) * (255 / (sx - sn))\n",
    "    name = filelist[k]\n",
    "    print(filelist[k])\n",
    "    #print(savepath + '\\\\' + name[:-4] +'_mean.png')\n",
    "    cv2.imwrite(savepath + '\\\\' + name[:-4] +'_mean.png', Mbmp)\n",
    "    cv2.imwrite(savepath + '\\\\' + name[:-4] +'_std.png', sbmp)"
   ]
  }
 ],
 "metadata": {
  "kernelspec": {
   "display_name": "Python 3",
   "language": "python",
   "name": "python3"
  },
  "language_info": {
   "codemirror_mode": {
    "name": "ipython",
    "version": 3
   },
   "file_extension": ".py",
   "mimetype": "text/x-python",
   "name": "python",
   "nbconvert_exporter": "python",
   "pygments_lexer": "ipython3",
   "version": "3.6.7"
  }
 },
 "nbformat": 4,
 "nbformat_minor": 2
}
