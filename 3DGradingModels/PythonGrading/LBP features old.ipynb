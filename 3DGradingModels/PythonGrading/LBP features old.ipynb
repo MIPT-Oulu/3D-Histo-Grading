{
 "cells": [
  {
   "cell_type": "code",
   "execution_count": 2,
   "metadata": {
    "scrolled": true
   },
   "outputs": [
    {
     "name": "stderr",
     "output_type": "stream",
     "text": [
      "C:\\Users\\sarytky\\AppData\\Local\\Continuum\\anaconda3\\lib\\site-packages\\h5py\\__init__.py:36: FutureWarning: Conversion of the second argument of issubdtype from `float` to `np.floating` is deprecated. In future, it will be treated as `np.float64 == np.dtype(float).type`.\n",
      "  from ._conv import register_converters as _register_converters\n"
     ]
    }
   ],
   "source": [
    "import cv2\n",
    "import numpy as np\n",
    "from matplotlib import pyplot as plt\n",
    "import os\n",
    "import xlsxwriter\n",
    "import pandas as pd # Excel\n",
    "import struct # Binary writing\n",
    "\n",
    "import scipy.io as sio # Read .mat files\n",
    "import h5py\n",
    "\n",
    "import time\n",
    "\n",
    "from grading__old import *\n",
    "\n",
    "from ipywidgets import FloatProgress\n",
    "from IPython.display import display\n",
    "\n",
    "import scipy.signal\n",
    "import scipy.ndimage\n",
    "\n",
    "import sklearn.metrics as skmet\n",
    "import sklearn.decomposition as skdec\n",
    "import sklearn.linear_model as sklin\n",
    "from sklearn.discriminant_analysis import LinearDiscriminantAnalysis\n",
    "from sklearn.model_selection import LeaveOneOut\n",
    "from sklearn.model_selection import KFold\n",
    "from sklearn.ensemble import RandomForestClassifier\n",
    "from sklearn.ensemble import RandomForestRegressor\n",
    "from sklearn.preprocessing import normalize\n",
    "from sklearn import svm\n",
    "from sklearn import neighbors"
   ]
  },
  {
   "cell_type": "code",
   "execution_count": 3,
   "metadata": {},
   "outputs": [],
   "source": [
    "def pipeline_lbp(impath, savepath, save, dtype='dat'):\n",
    "    #Start time\n",
    "    start_time = time.time()\n",
    "    # Calculate MRELBP from dataset\n",
    "    # Parameters\n",
    "    dict = {'N':8, 'R':9,'r':3,'wc':5,'wr':(5,5)}\n",
    "    mapping = getmapping(dict['N']) # mapping\n",
    "\n",
    "    files = os.listdir(impath)\n",
    "    files.sort()\n",
    "    #print(files[32 * 2])\n",
    "    #files.pop(32 * 2)\n",
    "    #files.pop(32 * 2)\n",
    "    #print(files)\n",
    "\n",
    "    features = None # Reset feature array\n",
    "\n",
    "    p = FloatProgress(min=0, max=len(files), description='Features:')\n",
    "    display(p)\n",
    "    for k in range(len(files)):\n",
    "        #Load file\n",
    "        if dtype == 'dat':\n",
    "            p.value += 2\n",
    "            if k > len(files) / 2 - 1:\n",
    "                break\n",
    "            file = os.path.join(impath,files[2 * k])\n",
    "            try:\n",
    "                Mz = loadbinary(file, np.float64)\n",
    "            except:\n",
    "                continue\n",
    "            file = os.path.join(impath,files[2 * k + 1])\n",
    "            try:\n",
    "                sz = loadbinary(file, np.float64)\n",
    "            except:\n",
    "                continue\n",
    "        else:\n",
    "            file = os.path.join(impath,files[k])\n",
    "            p.value += 1\n",
    "            try:\n",
    "                file = sio.loadmat(file)\n",
    "                Mz = file['Mz']\n",
    "                sz = file['sz']\n",
    "            except NotImplementedError:\n",
    "                file = h5py.File(file)\n",
    "                Mz = file['Mz'][()]\n",
    "                sz = file['sz'][()]\n",
    "            \n",
    "        #Combine mean and sd images\n",
    "        image = Mz+sz\n",
    "        #Grayscale normalization\n",
    "        image = localstandard(image,23,5,5,1)\n",
    "        # LBP\n",
    "        Chist,Lhist,Shist,Rhist, lbpIL, lbpIS, lbpIR = MRELBP(image,dict['N'],dict['R'],dict['r'],dict['wc'],dict['wr'])\n",
    "        f1 = Chist\n",
    "        f2 = maplbp(Lhist,mapping)\n",
    "        f3 = maplbp(Shist,mapping)\n",
    "        f4 = maplbp(Rhist,mapping)\n",
    "        #Concatenate features\n",
    "        f = np.concatenate((f1.T,f2.T,f3.T,f4.T),axis=0)\n",
    "        try:\n",
    "            features = np.concatenate((features,f),axis=1)\n",
    "        except ValueError:\n",
    "            features = f\n",
    "        # Save images\n",
    "        if dtype == 'dat':\n",
    "            cv2.imwrite(savepath + '\\\\' + files[2 * k][:-9] + '.png', lbpIS)\n",
    "        else:\n",
    "            cv2.imwrite(savepath + '\\\\' + files[k][:-9] + '.png', lbpIS)\n",
    "\n",
    "        # Plot LBP images\n",
    "        #plt.imshow(lbpIS); plt.show()\n",
    "        #plt.imshow(lbpIL); plt.show()\n",
    "        #plt.imshow(lbpIR); plt.show()\n",
    "\n",
    "    # Save features\n",
    "    writer = pd.ExcelWriter(save + r'\\LBP_features_python.xlsx')\n",
    "    df1 = pd.DataFrame(features)\n",
    "    df1.to_excel(writer, sheet_name='LBP_features')\n",
    "    writer.save()\n",
    "    \n",
    "    t = time.time()-start_time\n",
    "    print('Elapsed time: {0}s'.format(t))\n",
    "    \n",
    "    \n",
    "def pipeline_load(featurepath, gpath, save, choice):\n",
    "    #Start time\n",
    "    start_time = time.time()\n",
    "    # Load grades to array\n",
    "    grades = pd.read_excel(gpath, 'Sheet1')\n",
    "    grades = pd.DataFrame(grades).values\n",
    "    fnames = grades[:,0].astype('str')\n",
    "    g = list(grades[:,choice].astype('int'))\n",
    "    #g.pop(32)\n",
    "    g = np.array(g)\n",
    "    print('Max grade: {0}, min grade: {1}'.format(max(g), min(g)))\n",
    "    \n",
    "    # Load features\n",
    "    features = pd.read_excel(featurepath, 'LBP_features')\n",
    "    features = pd.DataFrame(features).values.astype('int')\n",
    "    print(features.shape)\n",
    "    \n",
    "    #PCA\n",
    "    # PCA parameters: whitening, svd solver (auto/full)\n",
    "    pca, score = ScikitPCA(features.T, 10, True, 'auto')\n",
    "    #pca, score = PCA(features,10)\n",
    "    print(score[0,:])\n",
    "    print(score.shape)\n",
    "\n",
    "    # Regression\n",
    "    if min(g) > 0:\n",
    "        g = g - min(g)\n",
    "    pred1 = regress(score, g)\n",
    "    pred2 = logreg(score, g>min(g))\n",
    "    for p in range(len(pred1)):\n",
    "        if pred1[p]<0:\n",
    "            pred1[p] = 0\n",
    "        if pred1[p] > max(g):\n",
    "            pred1[p]=max(g)\n",
    "\n",
    "    #Plotting PCA\n",
    "    a = g\n",
    "    b = np.round(pred1).astype('int')\n",
    "\n",
    "    # ROC curve\n",
    "    C1 = skmet.confusion_matrix(a,b)\n",
    "    MSE1 = skmet.mean_squared_error(a,pred1)\n",
    "    fpr, tpr, thresholds = skmet.roc_curve(a>0, np.round(pred1)>0, pos_label=1)\n",
    "    AUC1 = skmet.auc(fpr,tpr)\n",
    "    AUC2 = skmet.roc_auc_score(a>0,pred2)\n",
    "    m, b = np.polyfit(a, pred1.flatten(), 1)\n",
    "    R2 = skmet.r2_score(a,pred1.flatten())\n",
    "    fig0  = plt.figure(figsize=(6,6))\n",
    "    ax0 = fig0.add_subplot(111)\n",
    "    ax0.plot(fpr,tpr)\n",
    "    \n",
    "    # Save prediction\n",
    "    stats = np.zeros(len(g))\n",
    "    stats[0] = MSE1\n",
    "    stats[1] = AUC1\n",
    "    stats[2] = AUC2\n",
    "    tuples = list(zip(fnames, g, pred1[:,0], abs(g - pred1[:,0]), pred2, stats))\n",
    "    writer = pd.ExcelWriter(save + r'\\prediction_python.xlsx')\n",
    "    df1 = pd.DataFrame(tuples, columns=['Sample', 'Actual grade', 'Prediction', 'Difference', 'Logistic prediction', 'MSE, AUC1, AUC2'])\n",
    "    df1.to_excel(writer, sheet_name='Prediction')\n",
    "    writer.save()\n",
    "\n",
    "    print('Confusion matrix')\n",
    "    print(C1)\n",
    "    print('Mean squared error, Area under curve 1 and 2')\n",
    "    print(MSE1, AUC1, AUC2)#,MSE2,MSE3,MSE4)\n",
    "    print('R2 score')\n",
    "    print(R2)\n",
    "    #print('Sample, grade, prediction')\n",
    "    #for k in range(len(fnames)):\n",
    "    #    print(fnames[k],a[k],pred1[k])#,pred3[k])\n",
    "    \n",
    "    x = score[:,0]\n",
    "    y = score[:,1]\n",
    "    fig = plt.figure(figsize=(6,6))\n",
    "    ax1 = fig.add_subplot(111)\n",
    "    ax1.scatter(score[g<2,0],score[g<2,1],marker='o',color='b',label='Normal')\t\n",
    "    ax1.scatter(score[g>1,0],score[g>1,1],marker='s',color='r',label='OA')\n",
    "    for k in range(len(g)):\n",
    "        txt = fnames[k][0:-4]+str(g[k])\n",
    "        if g[k] >= 2:\n",
    "            ax1.scatter(x[k],y[k],marker='s',color='r')\n",
    "        else:\n",
    "            ax1.scatter(x[k],y[k],marker='o',color='b')\n",
    "\n",
    "    # Scatter plot actual vs prediction\n",
    "    fig = plt.figure(figsize=(6,6))\n",
    "    ax2 = fig.add_subplot(111)\n",
    "    ax2.scatter(a,pred1.flatten())\n",
    "    ax2.plot(a,m*a,'-',color='r')\n",
    "    ax2.set_xlabel('Actual grade')\n",
    "    ax2.set_ylabel('Predicted')\n",
    "    for k in range(len(g)):\n",
    "        txt = fnames[k]\n",
    "        txt = txt+str(g[k])\n",
    "        ax2.annotate(txt,xy=(a[k],pred1[k]),color='r')\n",
    "    plt.show()"
   ]
  },
  {
   "cell_type": "markdown",
   "metadata": {},
   "source": [
    "### Load features"
   ]
  },
  {
   "cell_type": "code",
   "execution_count": 8,
   "metadata": {},
   "outputs": [
    {
     "name": "stdout",
     "output_type": "stream",
     "text": [
      "Max grade: 3, min grade: 0\n",
      "(32, 36)\n",
      "[-0.61126449  1.55888136  0.81372917  0.47258567 -1.55170516 -1.5287743\n",
      " -0.89660894  2.45591342 -0.47300054  0.49480033]\n",
      "(36, 10)\n",
      "Confusion matrix\n",
      "[[ 5  3  0  0]\n",
      " [ 1  7  3  0]\n",
      " [ 0  1 10  2]\n",
      " [ 0  1  3  0]]\n",
      "Mean squared error, Area under curve 1 and 2\n",
      "0.36308781086036107 0.7946428571428572 0.9464285714285714\n",
      "R2 score\n",
      "0.5953896793851865\n"
     ]
    },
    {
     "data": {
      "image/png": "[encoded data removed]",
      "text/plain": [
       "<Figure size 432x432 with 1 Axes>"
      ]
     },
     "metadata": {},
     "output_type": "display_data"
    },
    {
     "data": {
      "image/png": "[encoded data removed]",
      "text/plain": [
       "<Figure size 432x432 with 1 Axes>"
      ]
     },
     "metadata": {},
     "output_type": "display_data"
    },
    {
     "data": {
      "image/png": "[encoded data removed]",
      "text/plain": [
       "<Figure size 432x432 with 1 Axes>"
      ]
     },
     "metadata": {},
     "output_type": "display_data"
    }
   ],
   "source": [
    "featurepath = r'Z:\\3DHistoData\\Grading\\LBP_features_surface.xlsx'\n",
    "gpath = r'Z:\\3DHistoData\\Grading\\PTAgreiditjanaytteet.xls'\n",
    "save = r'Z:\\3DHistoData\\Grading'\n",
    "\n",
    "total = 1\n",
    "surf = 2\n",
    "deep = 5\n",
    "cc = 6\n",
    "deepcell = 7\n",
    "deepECM = 8\n",
    "ccECM = 9\n",
    "ccVasc = 10\n",
    "\n",
    "choice = surf\n",
    "pipeline_load(featurepath, gpath, save, choice)"
   ]
  },
  {
   "cell_type": "markdown",
   "metadata": {},
   "source": [
    "### Calculate LBP features from .dat mean and std images"
   ]
  },
  {
   "cell_type": "code",
   "execution_count": 4,
   "metadata": {
    "scrolled": false
   },
   "outputs": [
    {
     "data": {
      "application/vnd.jupyter.widget-view+json": {
       "model_id": "6a0bc7dfc4924eb9831ce9dcc504bd1c",
       "version_major": 2,
       "version_minor": 0
      },
      "text/plain": [
       "FloatProgress(value=0.0, description='Features:', max=36.0)"
      ]
     },
     "metadata": {},
     "output_type": "display_data"
    },
    {
     "name": "stdout",
     "output_type": "stream",
     "text": [
      "Elapsed time: 52.08493900299072s\n"
     ]
    }
   ],
   "source": [
    "impath = r'Z:\\3DHistoData\\SurfaceImages\\Deep'\n",
    "impath = r'V:\\Tuomas\\PTASurfaceImages'\n",
    "dtype = 'dat'\n",
    "dtype = 'mat'\n",
    "savepath = r'Z:\\3DHistoData\\Grading\\LBP'\n",
    "save = r'Z:\\3DHistoData\\Grading'\n",
    "\n",
    "\n",
    "pipeline_lbp(impath, savepath, save, dtype)"
   ]
  },
  {
   "cell_type": "code",
   "execution_count": null,
   "metadata": {},
   "outputs": [],
   "source": []
  }
 ],
 "metadata": {
  "kernelspec": {
   "display_name": "Python 3",
   "language": "python",
   "name": "python3"
  },
  "language_info": {
   "codemirror_mode": {
    "name": "ipython",
    "version": 3
   },
   "file_extension": ".py",
   "mimetype": "text/x-python",
   "name": "python",
   "nbconvert_exporter": "python",
   "pygments_lexer": "ipython3",
   "version": "3.6.7"
  }
 },
 "nbformat": 4,
 "nbformat_minor": 2
}
