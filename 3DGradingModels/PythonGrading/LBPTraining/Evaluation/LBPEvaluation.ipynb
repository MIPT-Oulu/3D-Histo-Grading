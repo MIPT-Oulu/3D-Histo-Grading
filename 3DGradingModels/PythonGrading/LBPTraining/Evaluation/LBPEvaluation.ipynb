{
 "cells": [
  {
   "cell_type": "code",
   "execution_count": 1,
   "metadata": {},
   "outputs": [],
   "source": [
    "import numpy as np\n",
    "import os\n",
    "import h5py\n",
    "import pandas as pd\n",
    "from time import time\n",
    "\n",
    "from joblib import Parallel, delayed\n",
    "\n",
    "from sklearn.linear_model import Ridge, LogisticRegression\n",
    "from sklearn.model_selection import LeaveOneOut\n",
    "from sklearn.decomposition import PCA\n",
    "\n",
    "from LBP_components import Conv_MRELBP\n",
    "from Components import local_normalize\n",
    "\n",
    "import matplotlib.pyplot as plt\n",
    "\n",
    "np.random.seed(42)"
   ]
  },
  {
   "cell_type": "code",
   "execution_count": 2,
   "metadata": {},
   "outputs": [],
   "source": [
    "#Paths and files\n",
    "path_surf = '../../cartvoi_surf_new/'\n",
    "files_surf = os.listdir(path_surf)\n",
    "files_surf.sort()\n",
    "path_deep = '../../cartvoi_deep_new/'\n",
    "files_deep = os.listdir(path_deep)\n",
    "files_deep.sort()\n",
    "path_calc = '../../cartvoi_calc_new/'\n",
    "files_calc = os.listdir(path_calc)\n",
    "files_calc.sort()\n",
    "\n",
    "save_path = './results.csv'\n",
    "\n",
    "#Image loading\n",
    "im_surf = []\n",
    "im_deep = []\n",
    "im_calc = []\n",
    "\n",
    "for fsurf,fdeep,fcalc in zip(files_surf,files_deep,files_calc):\n",
    "    h5 = h5py.File(os.path.join(path_surf,fsurf),'r')\n",
    "    ims = h5['sum'][:]\n",
    "    h5.close()\n",
    "    im_surf.append(ims)\n",
    "    h5 = h5py.File(os.path.join(path_deep,fdeep),'r')\n",
    "    imd = h5['sum'][24:-24,24:-24]\n",
    "    h5.close()\n",
    "    im_deep.append(imd)\n",
    "    h5 = h5py.File(os.path.join(path_calc,fcalc),'r')\n",
    "    imc = h5['sum'][24:-24,24:-24]\n",
    "    h5.close()\n",
    "    im_calc.append(imc)\n",
    "    \n",
    "#Grades\n",
    "df = pd.read_excel('../../ERCGrades.xlsx')\n",
    "sgrades = np.array(df['surf_sub'])\n",
    "dgrades = np.array(df['deep_mat'])\n",
    "cgrades = np.array(df['calc_mat'])"
   ]
  },
  {
   "cell_type": "code",
   "execution_count": 3,
   "metadata": {},
   "outputs": [],
   "source": [
    "#Feature extration\n",
    "\n",
    "args_surf = {'ks1': 9, 'sigma1': 3, 'ks2': 21, 'sigma2': 15, 'R': 18, 'r': 5, 'wc': 7, 'wR': 9, 'wr': 3}\n",
    "args_deep = {'ks1': 25, 'sigma1': 12, 'ks2': 9, 'sigma2': 7, 'R': 27, 'r': 7, 'wc': 13, 'wR': 3, 'wr': 3}\n",
    "args_calc = {'ks1': 11, 'sigma1': 11, 'ks2': 23, 'sigma2': 3, 'R': 3, 'r': 2, 'wc': 11, 'wR': 5, 'wr': 5}\n",
    "\n",
    "features_surf = Parallel(n_jobs=12)(delayed(Conv_MRELBP)\n",
    "                                    (local_normalize(img,args_surf['ks1'],args_surf['sigma1'],args_surf['ks2'],args_surf['sigma2']),\n",
    "                                     8,args_surf['R'],args_surf['r'],args_surf['wR'],args_surf['wr'],args_surf['wc']) for img in im_surf)\n",
    "features_deep = Parallel(n_jobs=12)(delayed(Conv_MRELBP)\n",
    "                                    (local_normalize(img,args_deep['ks1'],args_deep['sigma1'],args_deep['ks2'],args_deep['sigma2']),\n",
    "                                     8,args_deep['R'],args_deep['r'],args_deep['wR'],args_deep['wr'],args_deep['wc']) for img in im_deep)\n",
    "features_calc = Parallel(n_jobs=12)(delayed(Conv_MRELBP)\n",
    "                                    (local_normalize(img,args_calc['ks1'],args_calc['sigma1'],args_calc['ks2'],args_calc['sigma2']),\n",
    "                                     8,args_calc['R'],args_calc['r'],args_calc['wR'],args_calc['wr'],args_calc['wc']) for img in im_calc)\n",
    "\n",
    "features_surf = np.array(features_surf).squeeze()\n",
    "features_deep = np.array(features_deep).squeeze()\n",
    "features_calc = np.array(features_calc).squeeze()\n",
    "#PCA\n",
    "pcasurf = PCA(20,whiten=True,random_state=42)\n",
    "surfpc = pcasurf.fit(features_surf).transform(features_surf)\n",
    "\n",
    "pcadeep = PCA(20,whiten=True,random_state=42)\n",
    "deeppc = pcadeep.fit(features_deep).transform(features_deep)\n",
    "\n",
    "pcacalc = PCA(20,whiten=True,random_state=42)\n",
    "calcpc = pcacalc.fit(features_calc).transform(features_calc)"
   ]
  },
  {
   "cell_type": "code",
   "execution_count": 4,
   "metadata": {},
   "outputs": [],
   "source": [
    "#Regression\n",
    "\n",
    "#Get splits\n",
    "loo_surf = LeaveOneOut()\n",
    "loo_surf.get_n_splits(surfpc)\n",
    "loo_deep = LeaveOneOut()\n",
    "loo_deep.get_n_splits(deeppc)\n",
    "loo_calc = LeaveOneOut()\n",
    "loo_calc.get_n_splits(calcpc)\n",
    "\n",
    "#Evaluate surface\n",
    "surfp = []\n",
    "surfp_log = []\n",
    "for train_idx, test_idx in loo_surf.split(surfpc):\n",
    "    #Train split\n",
    "    f = surfpc[train_idx]-surfpc.mean(0)\n",
    "    g = sgrades[train_idx]\n",
    "    \n",
    "    #Linear regression\n",
    "    Rmodel = Ridge(alpha=1,normalize=True,random_state=42)\n",
    "    Rmodel.fit(f,g.reshape(-1,1))\n",
    "    \n",
    "    #Logistic regression\n",
    "    Lmodel = LogisticRegression(solver='newton-cg',max_iter=1000)\n",
    "    Lmodel.fit(f,g.ravel()>=1)\n",
    "    \n",
    "    #Evaluate on test sample\n",
    "    p = Rmodel.predict((surfpc[test_idx]-surfpc.mean(0)).reshape(1,-1))\n",
    "    p_log = Lmodel.predict_proba((surfpc[test_idx]-surfpc.mean(0)).reshape(1,-1))\n",
    "    surfp.append(p)\n",
    "    surfp_log.append(p_log)\n",
    "\n",
    "#Evaluate deep cartilage\n",
    "deepp = []\n",
    "deepp_log = []\n",
    "for train_idx, test_idx in loo_deep.split(deeppc):\n",
    "    #Train split\n",
    "    f = deeppc[train_idx]-deeppc.mean(0)\n",
    "    g = dgrades[train_idx]\n",
    "    \n",
    "    #Linear regression\n",
    "    Rmodel = Ridge(alpha=1,normalize=True,random_state=42)\n",
    "    Rmodel.fit(f,g.reshape(-1,1))\n",
    "    \n",
    "    #Logistic regression\n",
    "    Lmodel = LogisticRegression(solver='newton-cg',max_iter=1000)\n",
    "    Lmodel.fit(f,g.ravel()>=1)\n",
    "    \n",
    "    #Evaluate on test sample\n",
    "    p = Rmodel.predict((deeppc[test_idx]-deeppc.mean(0)).reshape(1,-1))\n",
    "    p_log = Lmodel.predict_proba((deeppc[test_idx]-deeppc.mean(0)).reshape(1,-1))\n",
    "    deepp.append(p)\n",
    "    deepp_log.append(p_log)\n",
    "    \n",
    "#Evaluate calcified cartilage\n",
    "calcp = []\n",
    "calcp_log = []\n",
    "for train_idx, test_idx in loo_surf.split(calcpc):\n",
    "    #Train split\n",
    "    f = calcpc[train_idx]-calcpc.mean(0)\n",
    "    g = cgrades[train_idx]\n",
    "    \n",
    "    #Linear regression\n",
    "    Rmodel = Ridge(alpha=1,normalize=True,random_state=42)\n",
    "    Rmodel.fit(f,g.reshape(-1,1))\n",
    "    \n",
    "    #Logistic regression\n",
    "    Lmodel = LogisticRegression(solver='newton-cg',max_iter=1000)\n",
    "    Lmodel.fit(f,g.ravel()>=1)\n",
    "    \n",
    "    #Evaluate on test sample\n",
    "    p = Rmodel.predict((calcpc[test_idx]-calcpc.mean(0)).reshape(1,-1))\n",
    "    p_log = Lmodel.predict_proba((calcpc[test_idx]-calcpc.mean(0)).reshape(1,-1))\n",
    "    calcp.append(p)\n",
    "    calcp_log.append(p_log)\n"
   ]
  },
  {
   "cell_type": "code",
   "execution_count": 5,
   "metadata": {},
   "outputs": [],
   "source": [
    "#Predictions to array\n",
    "surfp = np.array(surfp).squeeze()\n",
    "surfp_log = np.array(surfp_log).squeeze()\n",
    "deepp = np.array(deepp).squeeze()\n",
    "deepp_log = np.array(deepp_log).squeeze()\n",
    "calcp = np.array(calcp).squeeze()\n",
    "calcp_log = np.array(calcp_log).squeeze()"
   ]
  },
  {
   "cell_type": "code",
   "execution_count": 6,
   "metadata": {},
   "outputs": [
    {
     "name": "stdout",
     "output_type": "stream",
     "text": [
      "0.33857244702316813\n",
      "0.5282088973272382\n",
      "0.6272411202435833\n"
     ]
    }
   ],
   "source": [
    "def MSE(preds,targets):\n",
    "    N = len(preds)\n",
    "    errors = preds.flatten()-targets.flatten()\n",
    "    return (errors**2).sum()/N\n",
    "\n",
    "print(MSE(surfp,sgrades))\n",
    "print(MSE(deepp,dgrades))\n",
    "print(MSE(calcp,cgrades))"
   ]
  },
  {
   "cell_type": "code",
   "execution_count": 7,
   "metadata": {},
   "outputs": [
    {
     "name": "stdout",
     "output_type": "stream",
     "text": [
      "[[ 1.          0.89550347]\n",
      " [ 1.          1.32920342]\n",
      " [ 2.          1.64509045]\n",
      " [ 1.          1.22640738]\n",
      " [ 0.          0.32151007]\n",
      " [ 1.          1.21410149]\n",
      " [ 1.          1.69864395]\n",
      " [ 0.          0.77343705]\n",
      " [ 0.          0.42294304]\n",
      " [ 0.          1.10477738]\n",
      " [ 3.          1.28103776]\n",
      " [ 2.          1.39362644]\n",
      " [ 1.          1.44051993]\n",
      " [ 1.          1.48727063]\n",
      " [ 2.          1.09515781]\n",
      " [ 1.          0.90440449]\n",
      " [ 1.          0.71261547]\n",
      " [ 0.          0.84543369]\n",
      " [ 3.          1.47212901]\n",
      " [ 1.          1.84806494]\n",
      " [ 1.          1.24245341]\n",
      " [ 0.          0.77026994]\n",
      " [ 2.          2.23368815]\n",
      " [ 3.          2.04008358]\n",
      " [ 2.          0.68304641]\n",
      " [ 1.          0.89173296]\n",
      " [ 0.          0.63552869]\n",
      " [ 0.          0.82899927]\n",
      " [ 2.          1.43461266]\n",
      " [ 1.          0.39175041]\n",
      " [ 1.          1.41480219]\n",
      " [ 1.         -1.16497929]\n",
      " [ 1.          0.63797873]\n",
      " [ 1.          1.31857991]\n",
      " [ 2.          1.02973506]\n",
      " [ 1.          0.83199163]]\n"
     ]
    }
   ],
   "source": [
    "print(np.concatenate((cgrades.reshape(-1,1),calcp.reshape(-1,1)),1))"
   ]
  },
  {
   "cell_type": "code",
   "execution_count": 8,
   "metadata": {},
   "outputs": [
    {
     "data": {
      "text/plain": [
       "(36,)"
      ]
     },
     "execution_count": 8,
     "metadata": {},
     "output_type": "execute_result"
    }
   ],
   "source": [
    "dgrades.shape"
   ]
  },
  {
   "cell_type": "code",
   "execution_count": null,
   "metadata": {},
   "outputs": [],
   "source": []
  }
 ],
 "metadata": {
  "kernelspec": {
   "display_name": "Python 3",
   "language": "python",
   "name": "python3"
  },
  "language_info": {
   "codemirror_mode": {
    "name": "ipython",
    "version": 3
   },
   "file_extension": ".py",
   "mimetype": "text/x-python",
   "name": "python",
   "nbconvert_exporter": "python",
   "pygments_lexer": "ipython3",
   "version": "3.6.7"
  }
 },
 "nbformat": 4,
 "nbformat_minor": 2
}
