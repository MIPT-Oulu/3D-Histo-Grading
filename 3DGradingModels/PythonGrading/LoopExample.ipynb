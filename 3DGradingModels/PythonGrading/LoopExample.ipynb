{
 "cells": [
  {
   "cell_type": "code",
   "execution_count": 1,
   "metadata": {},
   "outputs": [],
   "source": [
    "import numpy as np\n"
   ]
  },
  {
   "cell_type": "code",
   "execution_count": 3,
   "metadata": {},
   "outputs": [],
   "source": [
    "def make_circle(dims,R):\n",
    "    im = np.zeros(dims)\n",
    "    \n",
    "    for k in range(dims[0]*dims[1]):\n",
    "        #z = k//(dims[1]*dims[2])\n",
    "        #y = k%(dims[1]*dims[2])//dims[2]\n",
    "        #x = k%(dims[1]*dims[2])%dims[2]\n",
    "        y = k//dims[1]\n",
    "        x = k%dims[1]\n",
    "        val = (x-dims[1]//2)**2+(y-dims[0]//2)**2\n",
    "        if val<R**2:\n",
    "            im[y,x] = 1\n",
    "            \n",
    "    return im"
   ]
  },
  {
   "cell_type": "code",
   "execution_count": 8,
   "metadata": {},
   "outputs": [],
   "source": [
    "im = make_circle([100,100],40)"
   ]
  },
  {
   "cell_type": "code",
   "execution_count": 9,
   "metadata": {},
   "outputs": [
    {
     "data": {
      "image/png": "[encoded data removed]",
      "text/plain": [
       "<Figure size 432x288 with 1 Axes>"
      ]
     },
     "metadata": {
      "needs_background": "light"
     },
     "output_type": "display_data"
    }
   ],
   "source": [
    "import matplotlib.pyplot as plt\n",
    "plt.imshow(im,cmap='jet')\n",
    "plt.show()"
   ]
  },
  {
   "cell_type": "code",
   "execution_count": 1,
   "metadata": {},
   "outputs": [
    {
     "name": "stdout",
     "output_type": "stream",
     "text": [
      "[0, 0, 0]\n",
      "[1, 0, 0]\n",
      "[2, 0, 0]\n",
      "[3, 0, 0]\n",
      "[0, 1, 0]\n",
      "[1, 1, 0]\n",
      "[2, 1, 0]\n",
      "[3, 1, 0]\n",
      "[0, 2, 0]\n",
      "[1, 2, 0]\n",
      "[2, 2, 0]\n",
      "[3, 2, 0]\n",
      "[0, 3, 0]\n",
      "[1, 3, 0]\n",
      "[2, 3, 0]\n",
      "[3, 3, 0]\n",
      "[0, 0, 1]\n",
      "[1, 0, 1]\n",
      "[2, 0, 1]\n",
      "[3, 0, 1]\n",
      "[0, 1, 1]\n",
      "[1, 1, 1]\n",
      "[2, 1, 1]\n",
      "[3, 1, 1]\n",
      "[0, 2, 1]\n",
      "[1, 2, 1]\n",
      "[2, 2, 1]\n",
      "[3, 2, 1]\n",
      "[0, 3, 1]\n",
      "[1, 3, 1]\n",
      "[2, 3, 1]\n",
      "[3, 3, 1]\n",
      "[0, 0, 2]\n",
      "[1, 0, 2]\n",
      "[2, 0, 2]\n",
      "[3, 0, 2]\n",
      "[0, 1, 2]\n",
      "[1, 1, 2]\n",
      "[2, 1, 2]\n",
      "[3, 1, 2]\n",
      "[0, 2, 2]\n",
      "[1, 2, 2]\n",
      "[2, 2, 2]\n",
      "[3, 2, 2]\n",
      "[0, 3, 2]\n",
      "[1, 3, 2]\n",
      "[2, 3, 2]\n",
      "[3, 3, 2]\n",
      "[0, 0, 3]\n",
      "[1, 0, 3]\n",
      "[2, 0, 3]\n",
      "[3, 0, 3]\n",
      "[0, 1, 3]\n",
      "[1, 1, 3]\n",
      "[2, 1, 3]\n",
      "[3, 1, 3]\n",
      "[0, 2, 3]\n",
      "[1, 2, 3]\n",
      "[2, 2, 3]\n",
      "[3, 2, 3]\n",
      "[0, 3, 3]\n",
      "[1, 3, 3]\n",
      "[2, 3, 3]\n",
      "[3, 3, 3]\n"
     ]
    }
   ],
   "source": [
    "dims = [4,4,4]\n",
    "\n",
    "for k in range(dims[0]*dims[1]*dims[2]):\n",
    "    z = k//(dims[1]*dims[2])\n",
    "    y = k%(dims[1]*dims[2])//dims[2]\n",
    "    x = k%(dims[1]*dims[2])%dims[2]\n",
    "    print([x, y, z])"
   ]
  },
  {
   "cell_type": "code",
   "execution_count": null,
   "metadata": {},
   "outputs": [],
   "source": []
  }
 ],
 "metadata": {
  "kernelspec": {
   "display_name": "Python 3",
   "language": "python",
   "name": "python3"
  },
  "language_info": {
   "codemirror_mode": {
    "name": "ipython",
    "version": 3
   },
   "file_extension": ".py",
   "mimetype": "text/x-python",
   "name": "python",
   "nbconvert_exporter": "python",
   "pygments_lexer": "ipython3",
   "version": "3.6.5"
  }
 },
 "nbformat": 4,
 "nbformat_minor": 2
}
